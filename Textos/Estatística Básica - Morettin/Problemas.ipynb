{
 "cells": [
  {
   "cell_type": "markdown",
   "metadata": {},
   "source": [
    "# Config"
   ]
  },
  {
   "cell_type": "code",
   "execution_count": 2,
   "metadata": {},
   "outputs": [],
   "source": [
    "import pandas as pd\n",
    "import statsmodels.api as sm\n",
    "import statsmodels.formula.api as smf\n",
    "from scipy.stats import t\n",
    "import numpy as np"
   ]
  },
  {
   "cell_type": "markdown",
   "metadata": {},
   "source": [
    "# Problemas\n",
    "## Exercício 05\n",
    "### Item a"
   ]
  },
  {
   "cell_type": "code",
   "execution_count": 3,
   "metadata": {},
   "outputs": [
    {
     "data": {
      "text/html": [
       "<div>\n",
       "<style scoped>\n",
       "    .dataframe tbody tr th:only-of-type {\n",
       "        vertical-align: middle;\n",
       "    }\n",
       "\n",
       "    .dataframe tbody tr th {\n",
       "        vertical-align: top;\n",
       "    }\n",
       "\n",
       "    .dataframe thead th {\n",
       "        text-align: right;\n",
       "    }\n",
       "</style>\n",
       "<table border=\"1\" class=\"dataframe\">\n",
       "  <thead>\n",
       "    <tr style=\"text-align: right;\">\n",
       "      <th></th>\n",
       "      <th>Indivíduo</th>\n",
       "      <th>Y</th>\n",
       "      <th>W</th>\n",
       "      <th>X</th>\n",
       "      <th>Z</th>\n",
       "    </tr>\n",
       "  </thead>\n",
       "  <tbody>\n",
       "    <tr>\n",
       "      <th>0</th>\n",
       "      <td>1</td>\n",
       "      <td>96</td>\n",
       "      <td>H</td>\n",
       "      <td>20</td>\n",
       "      <td>90</td>\n",
       "    </tr>\n",
       "    <tr>\n",
       "      <th>1</th>\n",
       "      <td>2</td>\n",
       "      <td>92</td>\n",
       "      <td>M</td>\n",
       "      <td>20</td>\n",
       "      <td>100</td>\n",
       "    </tr>\n",
       "    <tr>\n",
       "      <th>2</th>\n",
       "      <td>3</td>\n",
       "      <td>106</td>\n",
       "      <td>H</td>\n",
       "      <td>20</td>\n",
       "      <td>80</td>\n",
       "    </tr>\n",
       "    <tr>\n",
       "      <th>3</th>\n",
       "      <td>4</td>\n",
       "      <td>100</td>\n",
       "      <td>M</td>\n",
       "      <td>20</td>\n",
       "      <td>90</td>\n",
       "    </tr>\n",
       "    <tr>\n",
       "      <th>4</th>\n",
       "      <td>5</td>\n",
       "      <td>98</td>\n",
       "      <td>M</td>\n",
       "      <td>25</td>\n",
       "      <td>100</td>\n",
       "    </tr>\n",
       "  </tbody>\n",
       "</table>\n",
       "</div>"
      ],
      "text/plain": [
       "   Indivíduo    Y  W   X    Z\n",
       "0          1   96  H  20   90\n",
       "1          2   92  M  20  100\n",
       "2          3  106  H  20   80\n",
       "3          4  100  M  20   90\n",
       "4          5   98  M  25  100"
      ]
     },
     "execution_count": 3,
     "metadata": {},
     "output_type": "execute_result"
    }
   ],
   "source": [
    "# Criando o DataFrame\n",
    "data = {\n",
    "    \"Indivíduo\": list(range(1, 21)),\n",
    "    \"Y\": [96, 92, 106, 100, 98, 104, 110, 101, 116, 106,\n",
    "          109, 100, 112, 105, 118, 108, 113, 112, 127, 117],\n",
    "    \"W\": [\"H\", \"M\", \"H\", \"M\", \"M\", \"H\", \"H\", \"M\", \"M\", \"H\",\n",
    "          \"H\", \"M\", \"M\", \"M\", \"H\", \"H\", \"M\", \"M\", \"H\", \"H\"],\n",
    "    \"X\": [20, 20, 20, 20, 25, 25, 25, 25, 30, 30,\n",
    "          30, 30, 35, 35, 35, 35, 40, 40, 40, 40],\n",
    "    \"Z\": [90, 100, 80, 90, 100, 90, 80, 90, 70, 90,\n",
    "          90, 80, 90, 80, 70, 90, 90, 90, 60, 80]\n",
    "}\n",
    "\n",
    "df = pd.DataFrame(data)\n",
    "\n",
    "# Exibindo o DataFrame\n",
    "df.head()"
   ]
  },
  {
   "cell_type": "code",
   "execution_count": null,
   "metadata": {},
   "outputs": [
    {
     "name": "stdout",
     "output_type": "stream",
     "text": [
      "Intercept    101.50\n",
      "X             -0.55\n",
      "dtype: float64\n"
     ]
    }
   ],
   "source": [
    "# Ajustando o modelo de regressão Z = a + bX\n",
    "model = smf.ols(\"Y ~ X\", data=df).fit()\n",
    "print(model.params)"
   ]
  },
  {
   "cell_type": "code",
   "execution_count": null,
   "metadata": {},
   "outputs": [
    {
     "name": "stdout",
     "output_type": "stream",
     "text": [
      "            df  sum_sq  mean_sq         F    PR(>F)\n",
      "X          1.0   302.5   302.50  3.408451  0.081375\n",
      "Residual  18.0  1597.5    88.75       NaN       NaN\n"
     ]
    }
   ],
   "source": [
    "# Gerando a tabela ANOVA\n",
    "anova_table = sm.stats.anova_lm(model, typ=1)\n",
    "print(anova_table)"
   ]
  },
  {
   "cell_type": "markdown",
   "metadata": {},
   "source": [
    "## Exercício 10\n",
    "\n",
    "### Item a"
   ]
  },
  {
   "cell_type": "code",
   "execution_count": 41,
   "metadata": {},
   "outputs": [
    {
     "data": {
      "text/html": [
       "<div>\n",
       "<style scoped>\n",
       "    .dataframe tbody tr th:only-of-type {\n",
       "        vertical-align: middle;\n",
       "    }\n",
       "\n",
       "    .dataframe tbody tr th {\n",
       "        vertical-align: top;\n",
       "    }\n",
       "\n",
       "    .dataframe thead th {\n",
       "        text-align: right;\n",
       "    }\n",
       "</style>\n",
       "<table border=\"1\" class=\"dataframe\">\n",
       "  <thead>\n",
       "    <tr style=\"text-align: right;\">\n",
       "      <th></th>\n",
       "      <th>Limite Inferior</th>\n",
       "      <th>Limite Superior</th>\n",
       "    </tr>\n",
       "  </thead>\n",
       "  <tbody>\n",
       "    <tr>\n",
       "      <th>Intercepto</th>\n",
       "      <td>82.208948</td>\n",
       "      <td>120.791052</td>\n",
       "    </tr>\n",
       "    <tr>\n",
       "      <th>Coeficiente de X</th>\n",
       "      <td>-1.175884</td>\n",
       "      <td>0.075884</td>\n",
       "    </tr>\n",
       "  </tbody>\n",
       "</table>\n",
       "</div>"
      ],
      "text/plain": [
       "                  Limite Inferior  Limite Superior\n",
       "Intercepto              82.208948       120.791052\n",
       "Coeficiente de X        -1.175884         0.075884"
      ]
     },
     "execution_count": 41,
     "metadata": {},
     "output_type": "execute_result"
    }
   ],
   "source": [
    "intervalos = model.conf_int(alpha=0.05)\n",
    "\n",
    "# Nomeando as colunas para facilitar a leitura\n",
    "intervalos.columns = [\"Limite Inferior\", \"Limite Superior\"]\n",
    "\n",
    "# Adicionando os nomes dos coeficientes\n",
    "intervalos.index = [\"Intercepto\", \"Coeficiente de X\"]\n",
    "\n",
    "intervalos\n",
    "\n",
    "# Realizar validação manual..."
   ]
  },
  {
   "cell_type": "code",
   "execution_count": 51,
   "metadata": {},
   "outputs": [
    {
     "name": "stdout",
     "output_type": "stream",
     "text": [
      "True\n",
      "-1.1758843870487248 0.0758843870487258\n"
     ]
    },
    {
     "data": {
      "text/plain": [
       "(-0.5499999999999995, 1000.0, 9.420721840708387)"
      ]
     },
     "execution_count": 51,
     "metadata": {},
     "output_type": "execute_result"
    }
   ],
   "source": [
    "# Valor da t-student com 18 graus de liberdade e 95% de confiança\n",
    "t_critical = t.ppf(1 - 0.025, 18)\n",
    "\n",
    "# -- Estimativa de sigma^2e\n",
    "# Método 01: Usando a biblioteca\n",
    "Se_1 = np.sqrt(model.mse_resid)\n",
    "# Método 02: Usando a fórmula (SQRes / GLRes)\n",
    "SQRes = model.ssr\n",
    "GLRes = model.df_resid\n",
    "Se_2 = np.sqrt(SQRes / GLRes)\n",
    "\n",
    "print(Se_1 == Se_2)\n",
    "Se = Se_1\n",
    "\n",
    "# -- Raiz(1/Sxx)\n",
    "Sxx = sum((df[\"X\"] - df[\"X\"].mean())**2)\n",
    "raiz_Sxx = 1 / Sxx**(1/2)\n",
    "\n",
    "# Estimativa do coeficiente de X\n",
    "b_hat = model.params[\"X\"]\n",
    "\n",
    "# -- Intervalo de confiança\n",
    "inferior = b_hat - t_critical * raiz_Sxx * Se\n",
    "superior = b_hat + t_critical * raiz_Sxx * Se\n",
    "print(inferior, superior)\n",
    "\n",
    "b_hat, Sxx, Se"
   ]
  },
  {
   "cell_type": "markdown",
   "metadata": {},
   "source": [
    "### Item c"
   ]
  },
  {
   "cell_type": "code",
   "execution_count": 56,
   "metadata": {},
   "outputs": [
    {
     "data": {
      "text/plain": [
       "True"
      ]
     },
     "execution_count": 56,
     "metadata": {},
     "output_type": "execute_result"
    }
   ],
   "source": [
    "-t_critical < (b_hat/Se) * (Sxx)**(1/2) < t_critical\n",
    "# Tal que a estimativa não pertence a região crítica. Logo, a hipótese nula não é rejeitada."
   ]
  }
 ],
 "metadata": {
  "kernelspec": {
   "display_name": "Python 3",
   "language": "python",
   "name": "python3"
  },
  "language_info": {
   "codemirror_mode": {
    "name": "ipython",
    "version": 3
   },
   "file_extension": ".py",
   "mimetype": "text/x-python",
   "name": "python",
   "nbconvert_exporter": "python",
   "pygments_lexer": "ipython3",
   "version": "3.12.2"
  }
 },
 "nbformat": 4,
 "nbformat_minor": 2
}
