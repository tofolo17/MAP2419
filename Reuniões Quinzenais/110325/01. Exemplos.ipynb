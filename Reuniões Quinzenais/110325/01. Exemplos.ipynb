{
 "cells": [
  {
   "cell_type": "markdown",
   "metadata": {},
   "source": [
    "# Config"
   ]
  },
  {
   "cell_type": "code",
   "execution_count": 6,
   "metadata": {},
   "outputs": [],
   "source": [
    "import pandas as pd\n",
    "import statsmodels.api as sm\n",
    "import statsmodels.formula.api as smf"
   ]
  },
  {
   "cell_type": "markdown",
   "metadata": {},
   "source": [
    "# Exemplos"
   ]
  },
  {
   "cell_type": "code",
   "execution_count": 2,
   "metadata": {},
   "outputs": [
    {
     "data": {
      "text/html": [
       "<div>\n",
       "<style scoped>\n",
       "    .dataframe tbody tr th:only-of-type {\n",
       "        vertical-align: middle;\n",
       "    }\n",
       "\n",
       "    .dataframe tbody tr th {\n",
       "        vertical-align: top;\n",
       "    }\n",
       "\n",
       "    .dataframe thead th {\n",
       "        text-align: right;\n",
       "    }\n",
       "</style>\n",
       "<table border=\"1\" class=\"dataframe\">\n",
       "  <thead>\n",
       "    <tr style=\"text-align: right;\">\n",
       "      <th></th>\n",
       "      <th>Indivíduo</th>\n",
       "      <th>Y</th>\n",
       "      <th>W</th>\n",
       "      <th>X</th>\n",
       "      <th>Z</th>\n",
       "    </tr>\n",
       "  </thead>\n",
       "  <tbody>\n",
       "    <tr>\n",
       "      <th>0</th>\n",
       "      <td>1</td>\n",
       "      <td>96</td>\n",
       "      <td>H</td>\n",
       "      <td>20</td>\n",
       "      <td>90</td>\n",
       "    </tr>\n",
       "    <tr>\n",
       "      <th>1</th>\n",
       "      <td>2</td>\n",
       "      <td>92</td>\n",
       "      <td>M</td>\n",
       "      <td>20</td>\n",
       "      <td>100</td>\n",
       "    </tr>\n",
       "    <tr>\n",
       "      <th>2</th>\n",
       "      <td>3</td>\n",
       "      <td>106</td>\n",
       "      <td>H</td>\n",
       "      <td>20</td>\n",
       "      <td>80</td>\n",
       "    </tr>\n",
       "    <tr>\n",
       "      <th>3</th>\n",
       "      <td>4</td>\n",
       "      <td>100</td>\n",
       "      <td>M</td>\n",
       "      <td>20</td>\n",
       "      <td>90</td>\n",
       "    </tr>\n",
       "    <tr>\n",
       "      <th>4</th>\n",
       "      <td>5</td>\n",
       "      <td>98</td>\n",
       "      <td>M</td>\n",
       "      <td>25</td>\n",
       "      <td>100</td>\n",
       "    </tr>\n",
       "  </tbody>\n",
       "</table>\n",
       "</div>"
      ],
      "text/plain": [
       "   Indivíduo    Y  W   X    Z\n",
       "0          1   96  H  20   90\n",
       "1          2   92  M  20  100\n",
       "2          3  106  H  20   80\n",
       "3          4  100  M  20   90\n",
       "4          5   98  M  25  100"
      ]
     },
     "execution_count": 2,
     "metadata": {},
     "output_type": "execute_result"
    }
   ],
   "source": [
    "# Criando o DataFrame\n",
    "data = {\n",
    "    \"Indivíduo\": list(range(1, 21)),\n",
    "    \"Y\": [96, 92, 106, 100, 98, 104, 110, 101, 116, 106,\n",
    "          109, 100, 112, 105, 118, 108, 113, 112, 127, 117],\n",
    "    \"W\": [\"H\", \"M\", \"H\", \"M\", \"M\", \"H\", \"H\", \"M\", \"M\", \"H\",\n",
    "          \"H\", \"M\", \"M\", \"M\", \"H\", \"H\", \"M\", \"M\", \"H\", \"H\"],\n",
    "    \"X\": [20, 20, 20, 20, 25, 25, 25, 25, 30, 30,\n",
    "          30, 30, 35, 35, 35, 35, 40, 40, 40, 40],\n",
    "    \"Z\": [90, 100, 80, 90, 100, 90, 80, 90, 70, 90,\n",
    "          90, 80, 90, 80, 70, 90, 90, 90, 60, 80]\n",
    "}\n",
    "\n",
    "df = pd.DataFrame(data)\n",
    "\n",
    "# Exibindo o DataFrame\n",
    "df.head()"
   ]
  },
  {
   "cell_type": "code",
   "execution_count": 3,
   "metadata": {},
   "outputs": [
    {
     "name": "stdout",
     "output_type": "stream",
     "text": [
      "Intercept    80.5\n",
      "X             0.9\n",
      "dtype: float64\n"
     ]
    }
   ],
   "source": [
    "model = smf.ols(\"Y ~ X\", data=df).fit()\n",
    "print(model.params)"
   ]
  },
  {
   "cell_type": "code",
   "execution_count": 4,
   "metadata": {},
   "outputs": [
    {
     "name": "stdout",
     "output_type": "stream",
     "text": [
      "                            OLS Regression Results                            \n",
      "==============================================================================\n",
      "Dep. Variable:                      Y   R-squared:                       0.590\n",
      "Model:                            OLS   Adj. R-squared:                  0.567\n",
      "Method:                 Least Squares   F-statistic:                     25.90\n",
      "Date:                Thu, 13 Mar 2025   Prob (F-statistic):           7.66e-05\n",
      "Time:                        20:29:51   Log-Likelihood:                -61.754\n",
      "No. Observations:                  20   AIC:                             127.5\n",
      "Df Residuals:                      18   BIC:                             129.5\n",
      "Df Model:                           1                                         \n",
      "Covariance Type:            nonrobust                                         \n",
      "==============================================================================\n",
      "                 coef    std err          t      P>|t|      [0.025      0.975]\n",
      "------------------------------------------------------------------------------\n",
      "Intercept     80.5000      5.451     14.768      0.000      69.048      91.952\n",
      "X              0.9000      0.177      5.089      0.000       0.528       1.272\n",
      "==============================================================================\n",
      "Omnibus:                        1.840   Durbin-Watson:                   2.565\n",
      "Prob(Omnibus):                  0.399   Jarque-Bera (JB):                1.395\n",
      "Skew:                           0.459   Prob(JB):                        0.498\n",
      "Kurtosis:                       2.088   Cond. No.                         134.\n",
      "==============================================================================\n",
      "\n",
      "Notes:\n",
      "[1] Standard Errors assume that the covariance matrix of the errors is correctly specified.\n"
     ]
    }
   ],
   "source": [
    "print(model.summary())"
   ]
  },
  {
   "cell_type": "code",
   "execution_count": 7,
   "metadata": {},
   "outputs": [
    {
     "name": "stdout",
     "output_type": "stream",
     "text": [
      "            df  sum_sq     mean_sq         F    PR(>F)\n",
      "X          1.0   810.0  810.000000  25.89698  0.000077\n",
      "Residual  18.0   563.0   31.277778       NaN       NaN\n"
     ]
    }
   ],
   "source": [
    "# Gerando a tabela ANOVA\n",
    "anova_table = sm.stats.anova_lm(model, typ=1)\n",
    "print(anova_table)"
   ]
  },
  {
   "cell_type": "code",
   "execution_count": 8,
   "metadata": {},
   "outputs": [
    {
     "name": "stdout",
     "output_type": "stream",
     "text": [
      "                  Limite Inferior  Limite Superior\n",
      "Intercepto              69.047780        91.952220\n",
      "Coeficiente de X         0.528441         1.271559\n"
     ]
    }
   ],
   "source": [
    "intervalos = model.conf_int(alpha=0.05)\n",
    "\n",
    "# Nomeando as colunas para facilitar a leitura\n",
    "intervalos.columns = [\"Limite Inferior\", \"Limite Superior\"]\n",
    "\n",
    "# Adicionando os nomes dos coeficientes\n",
    "intervalos.index = [\"Intercepto\", \"Coeficiente de X\"]\n",
    "\n",
    "print(intervalos)"
   ]
  }
 ],
 "metadata": {
  "kernelspec": {
   "display_name": "Python 3",
   "language": "python",
   "name": "python3"
  },
  "language_info": {
   "codemirror_mode": {
    "name": "ipython",
    "version": 3
   },
   "file_extension": ".py",
   "mimetype": "text/x-python",
   "name": "python",
   "nbconvert_exporter": "python",
   "pygments_lexer": "ipython3",
   "version": "3.12.2"
  }
 },
 "nbformat": 4,
 "nbformat_minor": 2
}
